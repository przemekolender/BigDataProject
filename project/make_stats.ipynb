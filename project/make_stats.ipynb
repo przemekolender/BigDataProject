{
 "cells": [
  {
   "cell_type": "code",
   "execution_count": 15,
   "id": "ff14e960",
   "metadata": {},
   "outputs": [],
   "source": [
    "import findspark\n",
    "findspark.init()\n",
    "import os\n",
    "import pandas as pd\n",
    "from pyspark.sql import SparkSession\n",
    "import pyspark.sql.functions as F"
   ]
  },
  {
   "cell_type": "code",
   "execution_count": 3,
   "id": "48f5336c",
   "metadata": {},
   "outputs": [
    {
     "name": "stderr",
     "output_type": "stream",
     "text": [
      "23/01/08 18:12:37 WARN util.Utils: Your hostname, node1 resolves to a loopback address: 127.0.0.1; using 10.0.2.15 instead (on interface enp0s3)\n",
      "23/01/08 18:12:37 WARN util.Utils: Set SPARK_LOCAL_IP if you need to bind to another address\n",
      "23/01/08 18:12:38 WARN util.NativeCodeLoader: Unable to load native-hadoop library for your platform... using builtin-java classes where applicable\n",
      "Setting default log level to \"WARN\".\n",
      "To adjust logging level use sc.setLogLevel(newLevel). For SparkR, use setLogLevel(newLevel).\n",
      "23/01/08 18:12:40 WARN util.Utils: Service 'SparkUI' could not bind on port 4040. Attempting port 4041.\n",
      "23/01/08 18:12:40 WARN util.Utils: Service 'SparkUI' could not bind on port 4041. Attempting port 4042.\n"
     ]
    }
   ],
   "source": [
    "sc = (\n",
    "    SparkSession.builder\n",
    "    .appName(\"vis\")\n",
    "    .master(\"local\")\n",
    "    .enableHiveSupport()\n",
    "    .getOrCreate()\n",
    ")"
   ]
  },
  {
   "cell_type": "code",
   "execution_count": 45,
   "id": "33bccbc9",
   "metadata": {},
   "outputs": [
    {
     "name": "stderr",
     "output_type": "stream",
     "text": [
      "                                                                                \r"
     ]
    }
   ],
   "source": [
    "month_temp_stats = sc.sql(\"\"\"\n",
    "    select\n",
    "        Rok,\n",
    "        `Miesiąc`,\n",
    "        avg(`Średnia temperatura dobowa [°C]`) as avg_temp,\n",
    "        avg(`Maksymalna temperatura dobowa [°C]`) as max_temp,\n",
    "        avg(`Minimalna temperatura dobowa [°C]`) as min_temp\n",
    "    from klimat group by Rok, `Miesiąc`\n",
    "\"\"\").toPandas()"
   ]
  },
  {
   "cell_type": "code",
   "execution_count": 46,
   "id": "3dc60b66",
   "metadata": {},
   "outputs": [],
   "source": [
    "month_temp_stats.to_csv('stats/month_temp.csv')"
   ]
  },
  {
   "cell_type": "code",
   "execution_count": 36,
   "id": "65dd40b4",
   "metadata": {},
   "outputs": [
    {
     "name": "stderr",
     "output_type": "stream",
     "text": [
      "                                                                                \r"
     ]
    }
   ],
   "source": [
    "month_rain_stats = sc.sql(\"\"\"\n",
    "    select\n",
    "        Rok,\n",
    "        `Miesiąc`,\n",
    "        sum(`Suma dobowa opadów [mm]`) as sum_rain\n",
    "    from klimat group by Rok, `Miesiąc`\n",
    "\"\"\").toPandas()"
   ]
  },
  {
   "cell_type": "code",
   "execution_count": 37,
   "id": "70b669e5",
   "metadata": {},
   "outputs": [],
   "source": [
    "month_rain_stats.to_csv('stats/month_rain.csv')"
   ]
  },
  {
   "cell_type": "code",
   "execution_count": 41,
   "id": "27cc07b2",
   "metadata": {},
   "outputs": [
    {
     "name": "stderr",
     "output_type": "stream",
     "text": [
      "                                                                                \r"
     ]
    }
   ],
   "source": [
    "station_temp_stats = sc.sql(\"\"\"\n",
    "    select\n",
    "        `Nazwa stacji`,\n",
    "        avg(`Średnia temperatura dobowa [°C]`) as avg_temp\n",
    "    from klimat\n",
    "    where Rok > 2010\n",
    "    group by `Nazwa stacji`\n",
    "\"\"\").toPandas()"
   ]
  },
  {
   "cell_type": "code",
   "execution_count": 42,
   "id": "8e2bdc8c",
   "metadata": {},
   "outputs": [],
   "source": [
    "station_temp_stats.to_csv('stats/station_temp.csv')"
   ]
  },
  {
   "cell_type": "code",
   "execution_count": 100,
   "id": "c21884b4",
   "metadata": {},
   "outputs": [
    {
     "name": "stderr",
     "output_type": "stream",
     "text": [
      "                                                                                \r"
     ]
    }
   ],
   "source": [
    "month_synop = sc.sql(\"\"\"\n",
    "    select\n",
    "        Rok,\n",
    "        `Miesiąc`,\n",
    "        sum(`Czas trwania opadu deszczu [godziny]`) / sum(case when `Status pomiaru DESZ` = 'brak pomiaru' then 0 else 1 end) as avg_time_deszcz,\n",
    "        sum(`Czas trwania opadu śniegu [godziny]`) / sum(case when `Status pomiaru SNEG` = 'brak pomiaru' then 0 else 1 end) as avg_time_snieg,\n",
    "        sum(`Czas trwania opadu deszczu ze śniegiem [godziny]`) / sum(case when `Status pomiaru DISN` = 'brak pomiaru' then 0 else 1 end) as avg_time_deszcz_ze_sniegiem,\n",
    "        sum(`Czas trwania gradu [godziny]`) / sum(case when `Status pomiaru GRAD` = 'brak pomiaru' then 0 else 1 end) as avg_time_grad,\n",
    "        sum(`Czas trwania mgły [godziny]`) / sum(case when `Status pomiaru MGLA` = 'brak pomiaru' then 0 else 1 end) as avg_time_mgla,\n",
    "        sum(`Czas trwania zamglenia`) / sum(case when `Status pomiaru ZMGL` = 'brak pomiaru' then 0 else 1 end) as avg_time_zamglenie,\n",
    "        sum(`Czas trwania sadzi [godziny]`) / sum(case when `Status pomiaru SADZ` = 'brak pomiaru' then 0 else 1 end) as avg_time_sadz,\n",
    "        sum(`Czas trwania gołoledzi [godziny]`) / sum(case when `Status pomiaru GOLO` = 'brak pomiaru' then 0 else 1 end) as avg_time_gololedz,\n",
    "        sum(`Czas trwania zamieci śnieżnej niskiej [godziny]`) / sum(case when `Status pomiaru ZMNI` = 'brak pomiaru' then 0 else 1 end) as avg_time_zamiec_niska,\n",
    "        sum(`Czas trwania zamieci śnieżnej wysokiej [godziny]`) / sum(case when `Status pomiaru ZMWS` = 'brak pomiaru' then 0 else 1 end) as avg_time_zamiec_wysoka,\n",
    "        sum(`Czas trwania zmętnienia [godziny]`) / sum(case when `Status pomiaru ZMET` = 'brak pomiaru' then 0 else 1 end) as avg_time_zmetnienie,\n",
    "        sum(`Czas trwania wiatru >=10m/s [godziny]`) / sum(case when `Status pomiaru FF10` = 'brak pomiaru' then 0 else 1 end) as avg_time_wiatr_10ms,\n",
    "        sum(`Czas trwania wiatru >15m/s [godziny]`) / sum(case when `Status pomiaru FF15` = 'brak pomiaru' then 0 else 1 end) as avg_time_wiatr_15ms,\n",
    "        sum(`Czas trwania burzy`) / sum(case when `Status pomiaru BRZA` = 'brak pomiaru' then 0 else 1 end) as avg_time_burza,\n",
    "        sum(`Czas trwania rosy`) / sum(case when `Status pomiaru ROSA` = 'brak pomiaru' then 0 else 1 end) as avg_time_rosa,\n",
    "        sum(`Czas trwania szronu [godziny]`) / sum(case when `Status pomiaru SZRO` = 'brak pomiaru' then 0 else 1 end) as avg_time_szron\n",
    "    from synop_test\n",
    "    group by Rok, `Miesiąc`\n",
    "\"\"\").toPandas()"
   ]
  },
  {
   "cell_type": "code",
   "execution_count": 101,
   "id": "05fb1cfa",
   "metadata": {},
   "outputs": [],
   "source": [
    "month_synop.to_csv('stats/month_synop.csv')"
   ]
  },
  {
   "cell_type": "code",
   "execution_count": null,
   "id": "9f3db692",
   "metadata": {},
   "outputs": [],
   "source": []
  }
 ],
 "metadata": {
  "kernelspec": {
   "display_name": "Python 3 (ipykernel)",
   "language": "python",
   "name": "python3"
  },
  "language_info": {
   "codemirror_mode": {
    "name": "ipython",
    "version": 3
   },
   "file_extension": ".py",
   "mimetype": "text/x-python",
   "name": "python",
   "nbconvert_exporter": "python",
   "pygments_lexer": "ipython3",
   "version": "3.9.4"
  }
 },
 "nbformat": 4,
 "nbformat_minor": 5
}
